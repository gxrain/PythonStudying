{
 "cells": [
  {
   "cell_type": "code",
   "execution_count": null,
   "metadata": {
    "scrolled": true
   },
   "outputs": [
    {
     "name": "stdout",
     "output_type": "stream",
     "text": [
      "Starting at: Wed Aug 15 13:06:53 2018\n",
      "Start loop 1 at :Start loop 2 at : Wed Aug 15 13:06:53 2018\n",
      "我是  丘比特\n",
      " Wed Aug 15 13:06:53 2018\n",
      "我是  哼 和   哈\n",
      "End loop 2 at: Wed Aug 15 13:06:55 2018\n",
      "End loop 1 at: Wed Aug 15 13:06:57 2018\n",
      "All done at: Wed Aug 15 13:06:57 2018\n"
     ]
    }
   ],
   "source": [
    "import time \n",
    "import threading\n",
    "\n",
    "def loop1(in1):\n",
    "    # ctime 得到当前时间\n",
    "    print('Start loop 1 at :', time.ctime())\n",
    "    # 把参数打印出来\n",
    "    print(\"我是 \",in1)\n",
    "    # 睡眠多长时间，单位是秒\n",
    "    time.sleep(4)\n",
    "    print('End loop 1 at:', time.ctime())\n",
    "\n",
    "def loop2(in1, in2):\n",
    "    # ctime 得到当前时间\n",
    "    print('Start loop 2 at :', time.ctime())\n",
    "    # 把参数in 和 in2打印出来，代表使用\n",
    "    print(\"我是 \" ,in1 , \"和  \", in2)\n",
    "    # 睡眠多长时间，单位是秒\n",
    "    time.sleep(2)\n",
    "    print('End loop 2 at:', time.ctime())\n",
    "\n",
    "\n",
    "def main():\n",
    "    print(\"Starting at:\", time.ctime())\n",
    "    # 生成threading.Thread实例\n",
    "    t1 = threading.Thread(target=loop1, args=(\"丘比特\",))\n",
    "    t1.start()\n",
    "\n",
    "    t2 = threading.Thread(target=loop2, args=(\"哼\", \"哈\"))\n",
    "    t2.start()\n",
    "\n",
    "    t1.join()\n",
    "    t2.join()\n",
    "\n",
    "    print(\"All done at:\", time.ctime())\n",
    "\n",
    "\n",
    "if __name__ == \"__main__\":\n",
    "    main()\n",
    "    # 一定要有while语句\n",
    "    # 因为启动多线程后本程序就作为主线程存在\n",
    "    # 如果主线程执行完毕，则子线程可能也需要终止\n",
    "    while True:\n",
    "        time.sleep(10)\n",
    "main()\n"
   ]
  },
  {
   "cell_type": "code",
   "execution_count": null,
   "metadata": {},
   "outputs": [],
   "source": [
    "print(\"ugufui\")"
   ]
  },
  {
   "cell_type": "code",
   "execution_count": 6,
   "metadata": {},
   "outputs": [
    {
     "name": "stdout",
     "output_type": "stream",
     "text": [
      "My name is linghu,and I am 18 years old.\n"
     ]
    }
   ],
   "source": [
    "love = \"My name is linghu,and I am {} years old.\".format(18)\n",
    "print(love)"
   ]
  },
  {
   "cell_type": "code",
   "execution_count": 15,
   "metadata": {},
   "outputs": [
    {
     "name": "stdout",
     "output_type": "stream",
     "text": [
      "第1年拿了105600.0块钱\n",
      "第2年拿了111513.6块钱\n",
      "第3年拿了117758.36160000002块钱\n",
      "第4年拿了124352.82984960002块钱\n",
      "第5年拿了131316.58832117764块钱\n",
      "第6年拿了138670.3172671636块钱\n",
      "第7年拿了146435.85503412478块钱\n",
      "第8年拿了154636.26291603578块钱\n",
      "第9年拿了163295.89363933378块钱\n",
      "第10年拿了172440.46368313648块钱\n",
      "第11年拿了182097.12964939213块钱\n",
      "第12年拿了192294.5689097581块钱\n",
      "第13年拿了203063.06476870456块钱\n",
      "大爷的，终于翻倍了，10年了\n"
     ]
    }
   ],
   "source": [
    "#如果年利率是5.6%，多少年后会翻倍\n",
    "#while循环\n",
    "benjin = 100000\n",
    "year = 0\n",
    "while benjin < 200000:\n",
    "     benjin = benjin * (1+0.056)\n",
    "     year +=1\n",
    "     print(\"第{0}年拿了{1}块钱\".format(year,benjin))\n",
    "else:\n",
    "    print(\"大爷的，终于翻倍了，10年了\")"
   ]
  },
  {
   "cell_type": "markdown",
   "metadata": {},
   "source": [
    "# 函数\n",
    "-函数定义\n"
   ]
  },
  {
   "cell_type": "code",
   "execution_count": 20,
   "metadata": {},
   "outputs": [
    {
     "name": "stdout",
     "output_type": "stream",
     "text": [
      "1  \n",
      "2 4  \n",
      "3 6 9  \n",
      "4 8 12 16  \n",
      "5 10 15 20 25  \n",
      "6 12 18 24 30 36  \n",
      "7 14 21 28 35 42 49  \n",
      "8 16 24 32 40 48 56 64  \n",
      "9 18 27 36 45 54 63 72 81  \n"
     ]
    }
   ],
   "source": [
    "#九九乘法表1.0\n",
    "for row in range (1,10):\n",
    "    #打印一行\n",
    "    for col in range(1,row+1):\n",
    "        #print函数默认任务打印完毕后换行\n",
    "        print(row * col,end = \" \")\n",
    "    print(\" \")\n",
    "    "
   ]
  },
  {
   "cell_type": "code",
   "execution_count": 22,
   "metadata": {},
   "outputs": [
    {
     "name": "stdout",
     "output_type": "stream",
     "text": [
      "1 \n",
      "2 4 \n",
      "3 6 9 \n",
      "4 8 12 16 \n",
      "5 10 15 20 25 \n",
      "6 12 18 24 30 36 \n",
      "7 14 21 28 35 42 49 \n",
      "8 16 24 32 40 48 56 64 \n",
      "9 18 27 36 45 54 63 72 81 \n"
     ]
    }
   ],
   "source": [
    "#九九乘法表2.0\n",
    "def printLine(row):\n",
    "    #打印一行\n",
    "    for col in range(1,row+1):\n",
    "        #print函数默认任务打印完毕后换行\n",
    "        print(row * col,end = \" \")\n",
    "    print(\"\")\n",
    "for row in range (1,10):\n",
    "    printLine(row)\n",
    "    "
   ]
  },
  {
   "cell_type": "markdown",
   "metadata": {},
   "source": [
    "def func(p1=v1,p2=v2,p3=v3.......):\n",
    "    func_body\n",
    "    #调用函数    \n",
    "    func(p1=value1,p2=value2......)\n",
    "    #比较麻烦，但是也有好处\n",
    "    \n",
    "    \n",
    "    \n",
    "    \n",
    "    \n",
    "    \n",
    "    \n",
    "    \n",
    "    \n",
    "    \n",
    "    \n",
    "    "
   ]
  }
 ],
 "metadata": {
  "kernelspec": {
   "display_name": "Python 3",
   "language": "python",
   "name": "python3"
  },
  "language_info": {
   "codemirror_mode": {
    "name": "ipython",
    "version": 3
   },
   "file_extension": ".py",
   "mimetype": "text/x-python",
   "name": "python",
   "nbconvert_exporter": "python",
   "pygments_lexer": "ipython3",
   "version": "3.6.5"
  }
 },
 "nbformat": 4,
 "nbformat_minor": 2
}
