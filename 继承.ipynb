{
 "cells": [
  {
   "cell_type": "code",
   "execution_count": 2,
   "metadata": {},
   "outputs": [
    {
     "name": "stdout",
     "output_type": "stream",
     "text": [
      "linghurongbo\n",
      "linghurongbo\n"
     ]
    }
   ],
   "source": [
    "#继承的语法\n",
    "#父类写在括号内\n",
    "class Person():\n",
    "    name = \"linghurongbo\"\n",
    "    age = 22\n",
    "    def sleep(self):\n",
    "        print(\"Sleep.................\")\n",
    "class Teacher(Person):\n",
    "    pass\n",
    "t = Teacher()\n",
    "print(t.name)\n",
    "print(Teacher.name)"
   ]
  },
  {
   "cell_type": "markdown",
   "metadata": {},
   "source": [
    "# 继承的特征\n",
    "  -所有的类都是object的子类\n",
    "  -优先使用子类成员\n",
    "  -子类如果想扩充父类的方法，可以在定义新方法的同时访问父类成员来进行代码复用，\n",
    "  可以使用  父类名.父类成员 的格式来调用父类成员，也可以使用super().父类成员的\n",
    "  格式来调用。\n",
    "  "
   ]
  },
  {
   "cell_type": "code",
   "execution_count": 6,
   "metadata": {},
   "outputs": [
    {
     "name": "stdout",
     "output_type": "stream",
     "text": [
      "linghurongbo\n",
      "linghurongbo\n",
      "sec\n"
     ]
    }
   ],
   "source": [
    "class Person():\n",
    "    name = \"linghurongbo\"\n",
    "    age = 22\n",
    "    _petname = \"sec\"\n",
    "    __score = 0#成绩是私有的，只要自己知道\n",
    "    def sleep(self):\n",
    "        print(\"Sleep.................\")\n",
    "class Teacher(Person):\n",
    "    pass\n",
    "t = Teacher()\n",
    "print(t.name)\n",
    "print(Teacher.name)\n",
    "print(t._petname)"
   ]
  },
  {
   "cell_type": "code",
   "execution_count": 9,
   "metadata": {},
   "outputs": [
    {
     "name": "stdout",
     "output_type": "stream",
     "text": [
      "make some money\n",
      "attention\n"
     ]
    }
   ],
   "source": [
    "class Person():\n",
    "    name = \"linghurongbo\"\n",
    "    age = 22\n",
    "    _petname = \"sec\"\n",
    "    __score = 0#成绩是私有的，只要自己知道\n",
    "    def sleep(self):\n",
    "        print(\"Sleep.................\")\n",
    "    def work(self):\n",
    "        print(\"make some money\")\n",
    "class Teacher(Person):\n",
    "    name = \"suli\"\n",
    "    def make_test(self):\n",
    "        print(\"attention\")\n",
    "    def work(self):\n",
    "        #扩充父类功能只需要调用和父类相同的函数\n",
    "        super().work()\n",
    "        self.make_test()\n",
    "t = Teacher()\n",
    "t.work()"
   ]
  },
  {
   "cell_type": "code",
   "execution_count": null,
   "metadata": {},
   "outputs": [],
   "source": []
  }
 ],
 "metadata": {
  "kernelspec": {
   "display_name": "Python 3",
   "language": "python",
   "name": "python3"
  },
  "language_info": {
   "codemirror_mode": {
    "name": "ipython",
    "version": 3
   },
   "file_extension": ".py",
   "mimetype": "text/x-python",
   "name": "python",
   "nbconvert_exporter": "python",
   "pygments_lexer": "ipython3",
   "version": "3.6.5"
  }
 },
 "nbformat": 4,
 "nbformat_minor": 2
}
